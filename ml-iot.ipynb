{
 "cells": [
  {
   "cell_type": "code",
   "execution_count": 1,
   "metadata": {},
   "outputs": [],
   "source": [
    "import pandas as pd"
   ]
  },
  {
   "cell_type": "code",
   "execution_count": 2,
   "metadata": {},
   "outputs": [],
   "source": [
    "data=pd.read_csv('iot.csv')"
   ]
  },
  {
   "cell_type": "code",
   "execution_count": 3,
   "metadata": {},
   "outputs": [
    {
     "data": {
      "text/html": [
       "<div>\n",
       "<style scoped>\n",
       "    .dataframe tbody tr th:only-of-type {\n",
       "        vertical-align: middle;\n",
       "    }\n",
       "\n",
       "    .dataframe tbody tr th {\n",
       "        vertical-align: top;\n",
       "    }\n",
       "\n",
       "    .dataframe thead th {\n",
       "        text-align: right;\n",
       "    }\n",
       "</style>\n",
       "<table border=\"1\" class=\"dataframe\">\n",
       "  <thead>\n",
       "    <tr style=\"text-align: right;\">\n",
       "      <th></th>\n",
       "      <th>Unnamed: 0</th>\n",
       "      <th>0</th>\n",
       "      <th>1</th>\n",
       "      <th>2</th>\n",
       "    </tr>\n",
       "  </thead>\n",
       "  <tbody>\n",
       "    <tr>\n",
       "      <th>0</th>\n",
       "      <td>0</td>\n",
       "      <td>45.0</td>\n",
       "      <td>39.0</td>\n",
       "      <td>2</td>\n",
       "    </tr>\n",
       "    <tr>\n",
       "      <th>1</th>\n",
       "      <td>1</td>\n",
       "      <td>33.0</td>\n",
       "      <td>39.0</td>\n",
       "      <td>1</td>\n",
       "    </tr>\n",
       "    <tr>\n",
       "      <th>2</th>\n",
       "      <td>2</td>\n",
       "      <td>66.0</td>\n",
       "      <td>36.0</td>\n",
       "      <td>3</td>\n",
       "    </tr>\n",
       "    <tr>\n",
       "      <th>3</th>\n",
       "      <td>3</td>\n",
       "      <td>44.0</td>\n",
       "      <td>30.0</td>\n",
       "      <td>2</td>\n",
       "    </tr>\n",
       "    <tr>\n",
       "      <th>4</th>\n",
       "      <td>4</td>\n",
       "      <td>78.0</td>\n",
       "      <td>32.0</td>\n",
       "      <td>3</td>\n",
       "    </tr>\n",
       "  </tbody>\n",
       "</table>\n",
       "</div>"
      ],
      "text/plain": [
       "   Unnamed: 0     0     1  2\n",
       "0           0  45.0  39.0  2\n",
       "1           1  33.0  39.0  1\n",
       "2           2  66.0  36.0  3\n",
       "3           3  44.0  30.0  2\n",
       "4           4  78.0  32.0  3"
      ]
     },
     "execution_count": 3,
     "metadata": {},
     "output_type": "execute_result"
    }
   ],
   "source": [
    "data.head()"
   ]
  },
  {
   "cell_type": "code",
   "execution_count": 4,
   "metadata": {},
   "outputs": [
    {
     "data": {
      "text/html": [
       "<div>\n",
       "<style scoped>\n",
       "    .dataframe tbody tr th:only-of-type {\n",
       "        vertical-align: middle;\n",
       "    }\n",
       "\n",
       "    .dataframe tbody tr th {\n",
       "        vertical-align: top;\n",
       "    }\n",
       "\n",
       "    .dataframe thead th {\n",
       "        text-align: right;\n",
       "    }\n",
       "</style>\n",
       "<table border=\"1\" class=\"dataframe\">\n",
       "  <thead>\n",
       "    <tr style=\"text-align: right;\">\n",
       "      <th></th>\n",
       "      <th>Unnamed: 0</th>\n",
       "      <th>0</th>\n",
       "      <th>1</th>\n",
       "      <th>2</th>\n",
       "    </tr>\n",
       "  </thead>\n",
       "  <tbody>\n",
       "    <tr>\n",
       "      <th>335</th>\n",
       "      <td>335</td>\n",
       "      <td>59.0</td>\n",
       "      <td>32.0</td>\n",
       "      <td>2</td>\n",
       "    </tr>\n",
       "    <tr>\n",
       "      <th>336</th>\n",
       "      <td>336</td>\n",
       "      <td>68.0</td>\n",
       "      <td>39.0</td>\n",
       "      <td>3</td>\n",
       "    </tr>\n",
       "    <tr>\n",
       "      <th>337</th>\n",
       "      <td>337</td>\n",
       "      <td>42.0</td>\n",
       "      <td>35.0</td>\n",
       "      <td>2</td>\n",
       "    </tr>\n",
       "    <tr>\n",
       "      <th>338</th>\n",
       "      <td>338</td>\n",
       "      <td>56.0</td>\n",
       "      <td>37.0</td>\n",
       "      <td>2</td>\n",
       "    </tr>\n",
       "    <tr>\n",
       "      <th>339</th>\n",
       "      <td>339</td>\n",
       "      <td>32.0</td>\n",
       "      <td>38.0</td>\n",
       "      <td>1</td>\n",
       "    </tr>\n",
       "  </tbody>\n",
       "</table>\n",
       "</div>"
      ],
      "text/plain": [
       "     Unnamed: 0     0     1  2\n",
       "335         335  59.0  32.0  2\n",
       "336         336  68.0  39.0  3\n",
       "337         337  42.0  35.0  2\n",
       "338         338  56.0  37.0  2\n",
       "339         339  32.0  38.0  1"
      ]
     },
     "execution_count": 4,
     "metadata": {},
     "output_type": "execute_result"
    }
   ],
   "source": [
    "data.tail()"
   ]
  },
  {
   "cell_type": "code",
   "execution_count": 5,
   "metadata": {},
   "outputs": [
    {
     "data": {
      "text/html": [
       "<div>\n",
       "<style scoped>\n",
       "    .dataframe tbody tr th:only-of-type {\n",
       "        vertical-align: middle;\n",
       "    }\n",
       "\n",
       "    .dataframe tbody tr th {\n",
       "        vertical-align: top;\n",
       "    }\n",
       "\n",
       "    .dataframe thead th {\n",
       "        text-align: right;\n",
       "    }\n",
       "</style>\n",
       "<table border=\"1\" class=\"dataframe\">\n",
       "  <thead>\n",
       "    <tr style=\"text-align: right;\">\n",
       "      <th></th>\n",
       "      <th>Unnamed: 0</th>\n",
       "      <th>0</th>\n",
       "      <th>1</th>\n",
       "      <th>2</th>\n",
       "    </tr>\n",
       "  </thead>\n",
       "  <tbody>\n",
       "    <tr>\n",
       "      <th>0</th>\n",
       "      <td>0</td>\n",
       "      <td>45.0</td>\n",
       "      <td>39.0</td>\n",
       "      <td>2</td>\n",
       "    </tr>\n",
       "    <tr>\n",
       "      <th>1</th>\n",
       "      <td>1</td>\n",
       "      <td>33.0</td>\n",
       "      <td>39.0</td>\n",
       "      <td>1</td>\n",
       "    </tr>\n",
       "  </tbody>\n",
       "</table>\n",
       "</div>"
      ],
      "text/plain": [
       "   Unnamed: 0     0     1  2\n",
       "0           0  45.0  39.0  2\n",
       "1           1  33.0  39.0  1"
      ]
     },
     "execution_count": 5,
     "metadata": {},
     "output_type": "execute_result"
    }
   ],
   "source": [
    "data.head(2)"
   ]
  },
  {
   "cell_type": "code",
   "execution_count": 6,
   "metadata": {},
   "outputs": [
    {
     "data": {
      "text/html": [
       "<div>\n",
       "<style scoped>\n",
       "    .dataframe tbody tr th:only-of-type {\n",
       "        vertical-align: middle;\n",
       "    }\n",
       "\n",
       "    .dataframe tbody tr th {\n",
       "        vertical-align: top;\n",
       "    }\n",
       "\n",
       "    .dataframe thead th {\n",
       "        text-align: right;\n",
       "    }\n",
       "</style>\n",
       "<table border=\"1\" class=\"dataframe\">\n",
       "  <thead>\n",
       "    <tr style=\"text-align: right;\">\n",
       "      <th></th>\n",
       "      <th>Unnamed: 0</th>\n",
       "      <th>0</th>\n",
       "      <th>1</th>\n",
       "      <th>2</th>\n",
       "    </tr>\n",
       "  </thead>\n",
       "  <tbody>\n",
       "    <tr>\n",
       "      <th>338</th>\n",
       "      <td>338</td>\n",
       "      <td>56.0</td>\n",
       "      <td>37.0</td>\n",
       "      <td>2</td>\n",
       "    </tr>\n",
       "    <tr>\n",
       "      <th>339</th>\n",
       "      <td>339</td>\n",
       "      <td>32.0</td>\n",
       "      <td>38.0</td>\n",
       "      <td>1</td>\n",
       "    </tr>\n",
       "  </tbody>\n",
       "</table>\n",
       "</div>"
      ],
      "text/plain": [
       "     Unnamed: 0     0     1  2\n",
       "338         338  56.0  37.0  2\n",
       "339         339  32.0  38.0  1"
      ]
     },
     "execution_count": 6,
     "metadata": {},
     "output_type": "execute_result"
    }
   ],
   "source": [
    "data.tail(2)"
   ]
  },
  {
   "cell_type": "code",
   "execution_count": 7,
   "metadata": {},
   "outputs": [
    {
     "data": {
      "text/plain": [
       "Index(['Unnamed: 0', '0', '1', '2'], dtype='object')"
      ]
     },
     "execution_count": 7,
     "metadata": {},
     "output_type": "execute_result"
    }
   ],
   "source": [
    "data.columns"
   ]
  },
  {
   "cell_type": "code",
   "execution_count": 8,
   "metadata": {},
   "outputs": [
    {
     "name": "stdout",
     "output_type": "stream",
     "text": [
      "<class 'pandas.core.frame.DataFrame'>\n",
      "RangeIndex: 340 entries, 0 to 339\n",
      "Data columns (total 4 columns):\n",
      " #   Column      Non-Null Count  Dtype  \n",
      "---  ------      --------------  -----  \n",
      " 0   Unnamed: 0  340 non-null    int64  \n",
      " 1   0           340 non-null    float64\n",
      " 2   1           340 non-null    float64\n",
      " 3   2           340 non-null    int64  \n",
      "dtypes: float64(2), int64(2)\n",
      "memory usage: 10.8 KB\n"
     ]
    }
   ],
   "source": [
    "data.info()"
   ]
  },
  {
   "cell_type": "code",
   "execution_count": 9,
   "metadata": {},
   "outputs": [
    {
     "data": {
      "text/html": [
       "<div>\n",
       "<style scoped>\n",
       "    .dataframe tbody tr th:only-of-type {\n",
       "        vertical-align: middle;\n",
       "    }\n",
       "\n",
       "    .dataframe tbody tr th {\n",
       "        vertical-align: top;\n",
       "    }\n",
       "\n",
       "    .dataframe thead th {\n",
       "        text-align: right;\n",
       "    }\n",
       "</style>\n",
       "<table border=\"1\" class=\"dataframe\">\n",
       "  <thead>\n",
       "    <tr style=\"text-align: right;\">\n",
       "      <th></th>\n",
       "      <th>Unnamed: 0</th>\n",
       "      <th>0</th>\n",
       "      <th>1</th>\n",
       "      <th>2</th>\n",
       "    </tr>\n",
       "  </thead>\n",
       "  <tbody>\n",
       "    <tr>\n",
       "      <th>count</th>\n",
       "      <td>340.000000</td>\n",
       "      <td>340.000000</td>\n",
       "      <td>340.000000</td>\n",
       "      <td>340.000000</td>\n",
       "    </tr>\n",
       "    <tr>\n",
       "      <th>mean</th>\n",
       "      <td>169.500000</td>\n",
       "      <td>60.294118</td>\n",
       "      <td>34.352941</td>\n",
       "      <td>2.352941</td>\n",
       "    </tr>\n",
       "    <tr>\n",
       "      <th>std</th>\n",
       "      <td>98.293777</td>\n",
       "      <td>22.780379</td>\n",
       "      <td>2.985534</td>\n",
       "      <td>1.221304</td>\n",
       "    </tr>\n",
       "    <tr>\n",
       "      <th>min</th>\n",
       "      <td>0.000000</td>\n",
       "      <td>20.000000</td>\n",
       "      <td>30.000000</td>\n",
       "      <td>0.000000</td>\n",
       "    </tr>\n",
       "    <tr>\n",
       "      <th>25%</th>\n",
       "      <td>84.750000</td>\n",
       "      <td>41.000000</td>\n",
       "      <td>32.000000</td>\n",
       "      <td>1.000000</td>\n",
       "    </tr>\n",
       "    <tr>\n",
       "      <th>50%</th>\n",
       "      <td>169.500000</td>\n",
       "      <td>60.000000</td>\n",
       "      <td>34.000000</td>\n",
       "      <td>2.000000</td>\n",
       "    </tr>\n",
       "    <tr>\n",
       "      <th>75%</th>\n",
       "      <td>254.250000</td>\n",
       "      <td>78.000000</td>\n",
       "      <td>37.000000</td>\n",
       "      <td>3.000000</td>\n",
       "    </tr>\n",
       "    <tr>\n",
       "      <th>max</th>\n",
       "      <td>339.000000</td>\n",
       "      <td>99.000000</td>\n",
       "      <td>39.000000</td>\n",
       "      <td>4.000000</td>\n",
       "    </tr>\n",
       "  </tbody>\n",
       "</table>\n",
       "</div>"
      ],
      "text/plain": [
       "       Unnamed: 0           0           1           2\n",
       "count  340.000000  340.000000  340.000000  340.000000\n",
       "mean   169.500000   60.294118   34.352941    2.352941\n",
       "std     98.293777   22.780379    2.985534    1.221304\n",
       "min      0.000000   20.000000   30.000000    0.000000\n",
       "25%     84.750000   41.000000   32.000000    1.000000\n",
       "50%    169.500000   60.000000   34.000000    2.000000\n",
       "75%    254.250000   78.000000   37.000000    3.000000\n",
       "max    339.000000   99.000000   39.000000    4.000000"
      ]
     },
     "execution_count": 9,
     "metadata": {},
     "output_type": "execute_result"
    }
   ],
   "source": [
    "data.describe()"
   ]
  },
  {
   "cell_type": "code",
   "execution_count": 12,
   "metadata": {},
   "outputs": [
    {
     "data": {
      "text/plain": [
       "1    33.0\n",
       "2    66.0\n",
       "3    44.0\n",
       "4    78.0\n",
       "5    60.0\n",
       "6    80.0\n",
       "7    92.0\n",
       "8    78.0\n",
       "9    31.0\n",
       "Name: 0, dtype: float64"
      ]
     },
     "execution_count": 12,
     "metadata": {},
     "output_type": "execute_result"
    }
   ],
   "source": [
    "data['0'][1:10]"
   ]
  },
  {
   "cell_type": "code",
   "execution_count": 13,
   "metadata": {},
   "outputs": [
    {
     "data": {
      "text/plain": [
       "1    39.0\n",
       "2    36.0\n",
       "3    30.0\n",
       "4    32.0\n",
       "5    36.0\n",
       "6    37.0\n",
       "7    39.0\n",
       "8    31.0\n",
       "9    36.0\n",
       "Name: 1, dtype: float64"
      ]
     },
     "execution_count": 13,
     "metadata": {},
     "output_type": "execute_result"
    }
   ],
   "source": [
    "data['1'][1:10]"
   ]
  },
  {
   "cell_type": "code",
   "execution_count": 14,
   "metadata": {},
   "outputs": [],
   "source": [
    "# Input Variables - X\n",
    "X=data.iloc[:,1:-1]"
   ]
  },
  {
   "cell_type": "code",
   "execution_count": 15,
   "metadata": {},
   "outputs": [
    {
     "data": {
      "text/html": [
       "<div>\n",
       "<style scoped>\n",
       "    .dataframe tbody tr th:only-of-type {\n",
       "        vertical-align: middle;\n",
       "    }\n",
       "\n",
       "    .dataframe tbody tr th {\n",
       "        vertical-align: top;\n",
       "    }\n",
       "\n",
       "    .dataframe thead th {\n",
       "        text-align: right;\n",
       "    }\n",
       "</style>\n",
       "<table border=\"1\" class=\"dataframe\">\n",
       "  <thead>\n",
       "    <tr style=\"text-align: right;\">\n",
       "      <th></th>\n",
       "      <th>0</th>\n",
       "      <th>1</th>\n",
       "    </tr>\n",
       "  </thead>\n",
       "  <tbody>\n",
       "    <tr>\n",
       "      <th>0</th>\n",
       "      <td>45.0</td>\n",
       "      <td>39.0</td>\n",
       "    </tr>\n",
       "    <tr>\n",
       "      <th>1</th>\n",
       "      <td>33.0</td>\n",
       "      <td>39.0</td>\n",
       "    </tr>\n",
       "    <tr>\n",
       "      <th>2</th>\n",
       "      <td>66.0</td>\n",
       "      <td>36.0</td>\n",
       "    </tr>\n",
       "    <tr>\n",
       "      <th>3</th>\n",
       "      <td>44.0</td>\n",
       "      <td>30.0</td>\n",
       "    </tr>\n",
       "    <tr>\n",
       "      <th>4</th>\n",
       "      <td>78.0</td>\n",
       "      <td>32.0</td>\n",
       "    </tr>\n",
       "    <tr>\n",
       "      <th>...</th>\n",
       "      <td>...</td>\n",
       "      <td>...</td>\n",
       "    </tr>\n",
       "    <tr>\n",
       "      <th>335</th>\n",
       "      <td>59.0</td>\n",
       "      <td>32.0</td>\n",
       "    </tr>\n",
       "    <tr>\n",
       "      <th>336</th>\n",
       "      <td>68.0</td>\n",
       "      <td>39.0</td>\n",
       "    </tr>\n",
       "    <tr>\n",
       "      <th>337</th>\n",
       "      <td>42.0</td>\n",
       "      <td>35.0</td>\n",
       "    </tr>\n",
       "    <tr>\n",
       "      <th>338</th>\n",
       "      <td>56.0</td>\n",
       "      <td>37.0</td>\n",
       "    </tr>\n",
       "    <tr>\n",
       "      <th>339</th>\n",
       "      <td>32.0</td>\n",
       "      <td>38.0</td>\n",
       "    </tr>\n",
       "  </tbody>\n",
       "</table>\n",
       "<p>340 rows × 2 columns</p>\n",
       "</div>"
      ],
      "text/plain": [
       "        0     1\n",
       "0    45.0  39.0\n",
       "1    33.0  39.0\n",
       "2    66.0  36.0\n",
       "3    44.0  30.0\n",
       "4    78.0  32.0\n",
       "..    ...   ...\n",
       "335  59.0  32.0\n",
       "336  68.0  39.0\n",
       "337  42.0  35.0\n",
       "338  56.0  37.0\n",
       "339  32.0  38.0\n",
       "\n",
       "[340 rows x 2 columns]"
      ]
     },
     "execution_count": 15,
     "metadata": {},
     "output_type": "execute_result"
    }
   ],
   "source": [
    "X"
   ]
  },
  {
   "cell_type": "code",
   "execution_count": 16,
   "metadata": {},
   "outputs": [],
   "source": [
    "# Output Variables - Target - Dependent Variables\n",
    "Y=data.iloc[:,-1]"
   ]
  },
  {
   "cell_type": "code",
   "execution_count": 17,
   "metadata": {},
   "outputs": [
    {
     "data": {
      "text/plain": [
       "0      2\n",
       "1      1\n",
       "2      3\n",
       "3      2\n",
       "4      3\n",
       "      ..\n",
       "335    2\n",
       "336    3\n",
       "337    2\n",
       "338    2\n",
       "339    1\n",
       "Name: 2, Length: 340, dtype: int64"
      ]
     },
     "execution_count": 17,
     "metadata": {},
     "output_type": "execute_result"
    }
   ],
   "source": [
    "Y"
   ]
  },
  {
   "cell_type": "code",
   "execution_count": 18,
   "metadata": {},
   "outputs": [
    {
     "data": {
      "text/plain": [
       "pandas.core.frame.DataFrame"
      ]
     },
     "execution_count": 18,
     "metadata": {},
     "output_type": "execute_result"
    }
   ],
   "source": [
    "type(X)"
   ]
  },
  {
   "cell_type": "code",
   "execution_count": 19,
   "metadata": {},
   "outputs": [
    {
     "data": {
      "text/plain": [
       "pandas.core.series.Series"
      ]
     },
     "execution_count": 19,
     "metadata": {},
     "output_type": "execute_result"
    }
   ],
   "source": [
    "type(Y)"
   ]
  },
  {
   "cell_type": "code",
   "execution_count": 20,
   "metadata": {},
   "outputs": [],
   "source": [
    "X=X.values"
   ]
  },
  {
   "cell_type": "code",
   "execution_count": 21,
   "metadata": {},
   "outputs": [
    {
     "data": {
      "text/plain": [
       "array([[45., 39.],\n",
       "       [33., 39.],\n",
       "       [66., 36.],\n",
       "       [44., 30.],\n",
       "       [78., 32.],\n",
       "       [60., 36.],\n",
       "       [80., 37.],\n",
       "       [92., 39.],\n",
       "       [78., 31.],\n",
       "       [31., 36.],\n",
       "       [31., 31.],\n",
       "       [68., 31.],\n",
       "       [81., 35.],\n",
       "       [20., 30.],\n",
       "       [58., 33.],\n",
       "       [47., 30.],\n",
       "       [51., 33.],\n",
       "       [94., 33.],\n",
       "       [67., 37.],\n",
       "       [95., 31.],\n",
       "       [22., 36.],\n",
       "       [66., 35.],\n",
       "       [64., 31.],\n",
       "       [77., 31.],\n",
       "       [83., 34.],\n",
       "       [48., 36.],\n",
       "       [61., 35.],\n",
       "       [50., 36.],\n",
       "       [85., 33.],\n",
       "       [41., 30.],\n",
       "       [91., 39.],\n",
       "       [45., 37.],\n",
       "       [36., 38.],\n",
       "       [25., 34.],\n",
       "       [27., 39.],\n",
       "       [96., 36.],\n",
       "       [76., 36.],\n",
       "       [47., 30.],\n",
       "       [44., 31.],\n",
       "       [30., 38.],\n",
       "       [71., 34.],\n",
       "       [98., 38.],\n",
       "       [34., 35.],\n",
       "       [67., 39.],\n",
       "       [78., 34.],\n",
       "       [85., 38.],\n",
       "       [48., 39.],\n",
       "       [54., 37.],\n",
       "       [60., 34.],\n",
       "       [80., 36.],\n",
       "       [75., 33.],\n",
       "       [68., 35.],\n",
       "       [71., 32.],\n",
       "       [44., 36.],\n",
       "       [57., 35.],\n",
       "       [25., 30.],\n",
       "       [35., 32.],\n",
       "       [90., 37.],\n",
       "       [97., 39.],\n",
       "       [67., 35.],\n",
       "       [33., 39.],\n",
       "       [29., 34.],\n",
       "       [79., 31.],\n",
       "       [25., 39.],\n",
       "       [98., 33.],\n",
       "       [60., 39.],\n",
       "       [90., 37.],\n",
       "       [66., 38.],\n",
       "       [43., 38.],\n",
       "       [36., 31.],\n",
       "       [59., 36.],\n",
       "       [67., 38.],\n",
       "       [59., 37.],\n",
       "       [95., 35.],\n",
       "       [92., 34.],\n",
       "       [89., 34.],\n",
       "       [74., 37.],\n",
       "       [59., 35.],\n",
       "       [25., 36.],\n",
       "       [41., 35.],\n",
       "       [39., 31.],\n",
       "       [43., 38.],\n",
       "       [98., 39.],\n",
       "       [24., 33.],\n",
       "       [59., 35.],\n",
       "       [51., 37.],\n",
       "       [64., 35.],\n",
       "       [21., 34.],\n",
       "       [86., 30.],\n",
       "       [43., 32.],\n",
       "       [92., 31.],\n",
       "       [74., 37.],\n",
       "       [77., 30.],\n",
       "       [29., 35.],\n",
       "       [47., 32.],\n",
       "       [59., 37.],\n",
       "       [96., 38.],\n",
       "       [62., 39.],\n",
       "       [99., 38.],\n",
       "       [83., 37.],\n",
       "       [61., 32.],\n",
       "       [46., 31.],\n",
       "       [97., 36.],\n",
       "       [95., 30.],\n",
       "       [74., 35.],\n",
       "       [81., 32.],\n",
       "       [73., 37.],\n",
       "       [92., 34.],\n",
       "       [91., 38.],\n",
       "       [52., 36.],\n",
       "       [70., 33.],\n",
       "       [99., 34.],\n",
       "       [59., 36.],\n",
       "       [95., 31.],\n",
       "       [63., 32.],\n",
       "       [26., 39.],\n",
       "       [50., 30.],\n",
       "       [83., 39.],\n",
       "       [25., 33.],\n",
       "       [51., 31.],\n",
       "       [92., 36.],\n",
       "       [79., 31.],\n",
       "       [99., 30.],\n",
       "       [96., 31.],\n",
       "       [77., 33.],\n",
       "       [68., 37.],\n",
       "       [30., 33.],\n",
       "       [76., 39.],\n",
       "       [31., 34.],\n",
       "       [91., 34.],\n",
       "       [86., 31.],\n",
       "       [90., 32.],\n",
       "       [24., 30.],\n",
       "       [24., 33.],\n",
       "       [21., 37.],\n",
       "       [39., 34.],\n",
       "       [77., 30.],\n",
       "       [61., 31.],\n",
       "       [25., 32.],\n",
       "       [72., 32.],\n",
       "       [34., 39.],\n",
       "       [27., 37.],\n",
       "       [82., 30.],\n",
       "       [79., 30.],\n",
       "       [37., 31.],\n",
       "       [96., 30.],\n",
       "       [79., 32.],\n",
       "       [59., 36.],\n",
       "       [90., 32.],\n",
       "       [68., 34.],\n",
       "       [24., 38.],\n",
       "       [90., 31.],\n",
       "       [35., 31.],\n",
       "       [71., 31.],\n",
       "       [25., 31.],\n",
       "       [77., 30.],\n",
       "       [28., 35.],\n",
       "       [33., 37.],\n",
       "       [89., 36.],\n",
       "       [43., 31.],\n",
       "       [55., 38.],\n",
       "       [80., 39.],\n",
       "       [42., 34.],\n",
       "       [43., 33.],\n",
       "       [29., 30.],\n",
       "       [35., 35.],\n",
       "       [24., 34.],\n",
       "       [23., 38.],\n",
       "       [72., 32.],\n",
       "       [56., 34.],\n",
       "       [80., 30.],\n",
       "       [30., 38.],\n",
       "       [41., 37.],\n",
       "       [96., 37.],\n",
       "       [41., 34.],\n",
       "       [28., 31.],\n",
       "       [28., 35.],\n",
       "       [73., 31.],\n",
       "       [69., 33.],\n",
       "       [59., 31.],\n",
       "       [40., 34.],\n",
       "       [59., 30.],\n",
       "       [30., 30.],\n",
       "       [53., 32.],\n",
       "       [78., 32.],\n",
       "       [64., 38.],\n",
       "       [93., 35.],\n",
       "       [40., 30.],\n",
       "       [96., 37.],\n",
       "       [30., 37.],\n",
       "       [83., 33.],\n",
       "       [72., 31.],\n",
       "       [44., 30.],\n",
       "       [80., 38.],\n",
       "       [37., 33.],\n",
       "       [78., 34.],\n",
       "       [65., 32.],\n",
       "       [49., 30.],\n",
       "       [69., 38.],\n",
       "       [30., 35.],\n",
       "       [83., 35.],\n",
       "       [85., 34.],\n",
       "       [55., 31.],\n",
       "       [51., 36.],\n",
       "       [71., 39.],\n",
       "       [83., 34.],\n",
       "       [57., 39.],\n",
       "       [38., 30.],\n",
       "       [37., 35.],\n",
       "       [58., 34.],\n",
       "       [42., 35.],\n",
       "       [60., 37.],\n",
       "       [40., 37.],\n",
       "       [66., 38.],\n",
       "       [22., 33.],\n",
       "       [69., 30.],\n",
       "       [83., 38.],\n",
       "       [53., 31.],\n",
       "       [70., 30.],\n",
       "       [38., 30.],\n",
       "       [54., 37.],\n",
       "       [76., 31.],\n",
       "       [46., 31.],\n",
       "       [84., 39.],\n",
       "       [76., 34.],\n",
       "       [32., 38.],\n",
       "       [94., 34.],\n",
       "       [79., 38.],\n",
       "       [51., 30.],\n",
       "       [43., 37.],\n",
       "       [44., 33.],\n",
       "       [74., 38.],\n",
       "       [41., 32.],\n",
       "       [68., 33.],\n",
       "       [59., 39.],\n",
       "       [39., 36.],\n",
       "       [41., 37.],\n",
       "       [53., 39.],\n",
       "       [48., 34.],\n",
       "       [60., 36.],\n",
       "       [63., 34.],\n",
       "       [96., 39.],\n",
       "       [27., 34.],\n",
       "       [39., 34.],\n",
       "       [71., 39.],\n",
       "       [86., 37.],\n",
       "       [50., 39.],\n",
       "       [27., 33.],\n",
       "       [81., 35.],\n",
       "       [36., 34.],\n",
       "       [95., 31.],\n",
       "       [32., 38.],\n",
       "       [58., 30.],\n",
       "       [47., 37.],\n",
       "       [69., 36.],\n",
       "       [70., 31.],\n",
       "       [72., 33.],\n",
       "       [52., 31.],\n",
       "       [51., 30.],\n",
       "       [61., 33.],\n",
       "       [28., 30.],\n",
       "       [60., 39.],\n",
       "       [94., 32.],\n",
       "       [94., 30.],\n",
       "       [92., 39.],\n",
       "       [77., 39.],\n",
       "       [92., 32.],\n",
       "       [83., 31.],\n",
       "       [53., 32.],\n",
       "       [61., 36.],\n",
       "       [78., 31.],\n",
       "       [40., 36.],\n",
       "       [60., 34.],\n",
       "       [99., 39.],\n",
       "       [44., 35.],\n",
       "       [90., 36.],\n",
       "       [59., 30.],\n",
       "       [78., 38.],\n",
       "       [32., 38.],\n",
       "       [20., 32.],\n",
       "       [60., 39.],\n",
       "       [85., 33.],\n",
       "       [55., 39.],\n",
       "       [98., 39.],\n",
       "       [21., 32.],\n",
       "       [68., 34.],\n",
       "       [20., 31.],\n",
       "       [70., 38.],\n",
       "       [31., 34.],\n",
       "       [49., 35.],\n",
       "       [89., 30.],\n",
       "       [32., 33.],\n",
       "       [65., 39.],\n",
       "       [70., 31.],\n",
       "       [63., 36.],\n",
       "       [49., 30.],\n",
       "       [54., 30.],\n",
       "       [92., 34.],\n",
       "       [24., 31.],\n",
       "       [99., 30.],\n",
       "       [62., 31.],\n",
       "       [65., 34.],\n",
       "       [49., 30.],\n",
       "       [62., 30.],\n",
       "       [33., 38.],\n",
       "       [22., 31.],\n",
       "       [66., 38.],\n",
       "       [83., 32.],\n",
       "       [99., 37.],\n",
       "       [93., 34.],\n",
       "       [78., 36.],\n",
       "       [71., 31.],\n",
       "       [95., 36.],\n",
       "       [29., 38.],\n",
       "       [20., 32.],\n",
       "       [92., 36.],\n",
       "       [87., 36.],\n",
       "       [71., 32.],\n",
       "       [71., 33.],\n",
       "       [76., 35.],\n",
       "       [27., 33.],\n",
       "       [46., 33.],\n",
       "       [72., 35.],\n",
       "       [60., 33.],\n",
       "       [37., 33.],\n",
       "       [75., 39.],\n",
       "       [31., 38.],\n",
       "       [74., 30.],\n",
       "       [38., 39.],\n",
       "       [55., 38.],\n",
       "       [72., 33.],\n",
       "       [22., 36.],\n",
       "       [56., 36.],\n",
       "       [53., 34.],\n",
       "       [64., 32.],\n",
       "       [59., 32.],\n",
       "       [68., 39.],\n",
       "       [42., 35.],\n",
       "       [56., 37.],\n",
       "       [32., 38.]])"
      ]
     },
     "execution_count": 21,
     "metadata": {},
     "output_type": "execute_result"
    }
   ],
   "source": [
    "X"
   ]
  },
  {
   "cell_type": "code",
   "execution_count": 22,
   "metadata": {},
   "outputs": [
    {
     "data": {
      "text/plain": [
       "numpy.ndarray"
      ]
     },
     "execution_count": 22,
     "metadata": {},
     "output_type": "execute_result"
    }
   ],
   "source": [
    "type(X)"
   ]
  },
  {
   "cell_type": "code",
   "execution_count": 23,
   "metadata": {},
   "outputs": [],
   "source": [
    "Y=Y.values"
   ]
  },
  {
   "cell_type": "code",
   "execution_count": 24,
   "metadata": {},
   "outputs": [
    {
     "data": {
      "text/plain": [
       "numpy.ndarray"
      ]
     },
     "execution_count": 24,
     "metadata": {},
     "output_type": "execute_result"
    }
   ],
   "source": [
    "type(Y)"
   ]
  },
  {
   "cell_type": "code",
   "execution_count": 25,
   "metadata": {},
   "outputs": [],
   "source": [
    "# Splitting the Data into Train and Test Data\n",
    "from sklearn.model_selection import train_test_split\n",
    "\n",
    "X_train,X_test,Y_train,Y_test=train_test_split(X,Y,test_size=0.2)"
   ]
  },
  {
   "cell_type": "code",
   "execution_count": 26,
   "metadata": {},
   "outputs": [
    {
     "data": {
      "text/plain": [
       "(272, 2)"
      ]
     },
     "execution_count": 26,
     "metadata": {},
     "output_type": "execute_result"
    }
   ],
   "source": [
    "X_train.shape"
   ]
  },
  {
   "cell_type": "code",
   "execution_count": 27,
   "metadata": {},
   "outputs": [
    {
     "data": {
      "text/plain": [
       "(68, 2)"
      ]
     },
     "execution_count": 27,
     "metadata": {},
     "output_type": "execute_result"
    }
   ],
   "source": [
    "X_test.shape"
   ]
  },
  {
   "cell_type": "code",
   "execution_count": 28,
   "metadata": {},
   "outputs": [
    {
     "data": {
      "text/plain": [
       "272"
      ]
     },
     "execution_count": 28,
     "metadata": {},
     "output_type": "execute_result"
    }
   ],
   "source": [
    "len(Y_train)"
   ]
  },
  {
   "cell_type": "code",
   "execution_count": 29,
   "metadata": {},
   "outputs": [
    {
     "data": {
      "text/plain": [
       "68"
      ]
     },
     "execution_count": 29,
     "metadata": {},
     "output_type": "execute_result"
    }
   ],
   "source": [
    "len(Y_test)"
   ]
  },
  {
   "cell_type": "code",
   "execution_count": 30,
   "metadata": {},
   "outputs": [],
   "source": [
    "# Supervised - Labelled Data - Outcome Variable is known\n",
    "# Unsupervised - Unlabelled Data - Outcome Variable is not known\n",
    "\n",
    "# Supervised - Regression - Predict a numerical outcome (salary, rental)\n",
    "# Supervised - Classification - Predict a categorical class (label)\n",
    "\n",
    "# Classification - Binary - Logistic Regression\n",
    "# Classification - Multi Class - KNN, Random Forest, Decision Tree, SVM"
   ]
  },
  {
   "cell_type": "code",
   "execution_count": 31,
   "metadata": {},
   "outputs": [],
   "source": [
    "from sklearn.neighbors import KNeighborsClassifier\n",
    "\n",
    "classifier=KNeighborsClassifier(n_neighbors=5)\n"
   ]
  },
  {
   "cell_type": "code",
   "execution_count": 32,
   "metadata": {},
   "outputs": [
    {
     "data": {
      "text/plain": [
       "KNeighborsClassifier()"
      ]
     },
     "execution_count": 32,
     "metadata": {},
     "output_type": "execute_result"
    }
   ],
   "source": [
    "# Train the model\n",
    "classifier.fit(X_train,Y_train)"
   ]
  },
  {
   "cell_type": "code",
   "execution_count": 33,
   "metadata": {},
   "outputs": [],
   "source": [
    "Y_pred=classifier.predict(X_test)"
   ]
  },
  {
   "cell_type": "code",
   "execution_count": 35,
   "metadata": {},
   "outputs": [
    {
     "name": "stdout",
     "output_type": "stream",
     "text": [
      "91.17647058823529\n"
     ]
    }
   ],
   "source": [
    "from sklearn.metrics import accuracy_score\n",
    "\n",
    "print(accuracy_score(Y_test,Y_pred)*100)"
   ]
  },
  {
   "cell_type": "code",
   "execution_count": 40,
   "metadata": {},
   "outputs": [],
   "source": [
    "import pickle\n",
    "\n",
    "model=open('model.pkl','wb')\n",
    "pickle.dump(classifier,model)\n",
    "model.close()"
   ]
  }
 ],
 "metadata": {
  "interpreter": {
   "hash": "24b74aa8c65250be8f4e3ebee0627c9701d978bf6bb151533635fc1d10339241"
  },
  "kernelspec": {
   "display_name": "Python 3.9.9 64-bit",
   "language": "python",
   "name": "python3"
  },
  "language_info": {
   "codemirror_mode": {
    "name": "ipython",
    "version": 3
   },
   "file_extension": ".py",
   "mimetype": "text/x-python",
   "name": "python",
   "nbconvert_exporter": "python",
   "pygments_lexer": "ipython3",
   "version": "3.9.9"
  },
  "orig_nbformat": 4
 },
 "nbformat": 4,
 "nbformat_minor": 2
}
